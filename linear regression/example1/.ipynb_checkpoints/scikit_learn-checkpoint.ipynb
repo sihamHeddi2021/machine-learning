{
 "cells": [
  {
   "cell_type": "code",
   "execution_count": 99,
   "id": "13660c50",
   "metadata": {},
   "outputs": [],
   "source": [
    "import pandas as pd\n",
    "import numpy as np\n",
    "import matplotlib.pyplot as plt\n"
   ]
  },
  {
   "cell_type": "code",
   "execution_count": 100,
   "id": "319b1c17",
   "metadata": {},
   "outputs": [
    {
     "data": {
      "text/html": [
       "<div>\n",
       "<style scoped>\n",
       "    .dataframe tbody tr th:only-of-type {\n",
       "        vertical-align: middle;\n",
       "    }\n",
       "\n",
       "    .dataframe tbody tr th {\n",
       "        vertical-align: top;\n",
       "    }\n",
       "\n",
       "    .dataframe thead th {\n",
       "        text-align: right;\n",
       "    }\n",
       "</style>\n",
       "<table border=\"1\" class=\"dataframe\">\n",
       "  <thead>\n",
       "    <tr style=\"text-align: right;\">\n",
       "      <th></th>\n",
       "      <th>number_courses</th>\n",
       "      <th>time_study</th>\n",
       "      <th>Marks</th>\n",
       "    </tr>\n",
       "  </thead>\n",
       "  <tbody>\n",
       "    <tr>\n",
       "      <th>0</th>\n",
       "      <td>3</td>\n",
       "      <td>4.508</td>\n",
       "      <td>19.202</td>\n",
       "    </tr>\n",
       "    <tr>\n",
       "      <th>1</th>\n",
       "      <td>4</td>\n",
       "      <td>0.096</td>\n",
       "      <td>7.734</td>\n",
       "    </tr>\n",
       "    <tr>\n",
       "      <th>2</th>\n",
       "      <td>4</td>\n",
       "      <td>3.133</td>\n",
       "      <td>13.811</td>\n",
       "    </tr>\n",
       "    <tr>\n",
       "      <th>3</th>\n",
       "      <td>6</td>\n",
       "      <td>7.909</td>\n",
       "      <td>53.018</td>\n",
       "    </tr>\n",
       "    <tr>\n",
       "      <th>4</th>\n",
       "      <td>8</td>\n",
       "      <td>7.811</td>\n",
       "      <td>55.299</td>\n",
       "    </tr>\n",
       "    <tr>\n",
       "      <th>...</th>\n",
       "      <td>...</td>\n",
       "      <td>...</td>\n",
       "      <td>...</td>\n",
       "    </tr>\n",
       "    <tr>\n",
       "      <th>95</th>\n",
       "      <td>6</td>\n",
       "      <td>3.561</td>\n",
       "      <td>19.128</td>\n",
       "    </tr>\n",
       "    <tr>\n",
       "      <th>96</th>\n",
       "      <td>3</td>\n",
       "      <td>0.301</td>\n",
       "      <td>5.609</td>\n",
       "    </tr>\n",
       "    <tr>\n",
       "      <th>97</th>\n",
       "      <td>4</td>\n",
       "      <td>7.163</td>\n",
       "      <td>41.444</td>\n",
       "    </tr>\n",
       "    <tr>\n",
       "      <th>98</th>\n",
       "      <td>7</td>\n",
       "      <td>0.309</td>\n",
       "      <td>12.027</td>\n",
       "    </tr>\n",
       "    <tr>\n",
       "      <th>99</th>\n",
       "      <td>3</td>\n",
       "      <td>6.335</td>\n",
       "      <td>32.357</td>\n",
       "    </tr>\n",
       "  </tbody>\n",
       "</table>\n",
       "<p>100 rows × 3 columns</p>\n",
       "</div>"
      ],
      "text/plain": [
       "    number_courses  time_study   Marks\n",
       "0                3       4.508  19.202\n",
       "1                4       0.096   7.734\n",
       "2                4       3.133  13.811\n",
       "3                6       7.909  53.018\n",
       "4                8       7.811  55.299\n",
       "..             ...         ...     ...\n",
       "95               6       3.561  19.128\n",
       "96               3       0.301   5.609\n",
       "97               4       7.163  41.444\n",
       "98               7       0.309  12.027\n",
       "99               3       6.335  32.357\n",
       "\n",
       "[100 rows x 3 columns]"
      ]
     },
     "execution_count": 100,
     "metadata": {},
     "output_type": "execute_result"
    }
   ],
   "source": [
    "dataset = pd.read_csv(\"Student_Marks.csv\")\n",
    "dataset"
   ]
  },
  {
   "cell_type": "code",
   "execution_count": 101,
   "id": "e93d7587",
   "metadata": {},
   "outputs": [
    {
     "name": "stdout",
     "output_type": "stream",
     "text": [
      "<class 'pandas.core.frame.DataFrame'>\n",
      "RangeIndex: 100 entries, 0 to 99\n",
      "Data columns (total 3 columns):\n",
      " #   Column          Non-Null Count  Dtype  \n",
      "---  ------          --------------  -----  \n",
      " 0   number_courses  100 non-null    int64  \n",
      " 1   time_study      100 non-null    float64\n",
      " 2   Marks           100 non-null    float64\n",
      "dtypes: float64(2), int64(1)\n",
      "memory usage: 2.5 KB\n"
     ]
    }
   ],
   "source": [
    "dataset.info()"
   ]
  },
  {
   "cell_type": "code",
   "execution_count": 102,
   "id": "29a74c9a",
   "metadata": {},
   "outputs": [],
   "source": [
    "dataset[\"Marks\"]= (dataset[\"Marks\"]-dataset[\"Marks\"].mean())/(dataset[\"Marks\"].max()-dataset[\"Marks\"].min())"
   ]
  },
  {
   "cell_type": "code",
   "execution_count": 103,
   "id": "4ce99518",
   "metadata": {},
   "outputs": [],
   "source": [
    "dataset[\"time_study\"]= (dataset[\"time_study\"]-dataset[\"time_study\"].mean())/(dataset[\"time_study\"].max()-dataset[\"time_study\"].min())"
   ]
  },
  {
   "cell_type": "code",
   "execution_count": 104,
   "id": "4c179df1",
   "metadata": {},
   "outputs": [
    {
     "data": {
      "text/html": [
       "<div>\n",
       "<style scoped>\n",
       "    .dataframe tbody tr th:only-of-type {\n",
       "        vertical-align: middle;\n",
       "    }\n",
       "\n",
       "    .dataframe tbody tr th {\n",
       "        vertical-align: top;\n",
       "    }\n",
       "\n",
       "    .dataframe thead th {\n",
       "        text-align: right;\n",
       "    }\n",
       "</style>\n",
       "<table border=\"1\" class=\"dataframe\">\n",
       "  <thead>\n",
       "    <tr style=\"text-align: right;\">\n",
       "      <th></th>\n",
       "      <th>number_courses</th>\n",
       "      <th>time_study</th>\n",
       "      <th>Marks</th>\n",
       "    </tr>\n",
       "  </thead>\n",
       "  <tbody>\n",
       "    <tr>\n",
       "      <th>0</th>\n",
       "      <td>3</td>\n",
       "      <td>0.054810</td>\n",
       "      <td>-0.104965</td>\n",
       "    </tr>\n",
       "    <tr>\n",
       "      <th>1</th>\n",
       "      <td>4</td>\n",
       "      <td>-0.506442</td>\n",
       "      <td>-0.335755</td>\n",
       "    </tr>\n",
       "    <tr>\n",
       "      <th>2</th>\n",
       "      <td>4</td>\n",
       "      <td>-0.120104</td>\n",
       "      <td>-0.213457</td>\n",
       "    </tr>\n",
       "    <tr>\n",
       "      <th>3</th>\n",
       "      <td>6</td>\n",
       "      <td>0.487452</td>\n",
       "      <td>0.575575</td>\n",
       "    </tr>\n",
       "    <tr>\n",
       "      <th>4</th>\n",
       "      <td>8</td>\n",
       "      <td>0.474985</td>\n",
       "      <td>0.621479</td>\n",
       "    </tr>\n",
       "    <tr>\n",
       "      <th>...</th>\n",
       "      <td>...</td>\n",
       "      <td>...</td>\n",
       "      <td>...</td>\n",
       "    </tr>\n",
       "    <tr>\n",
       "      <th>95</th>\n",
       "      <td>6</td>\n",
       "      <td>-0.065658</td>\n",
       "      <td>-0.106454</td>\n",
       "    </tr>\n",
       "    <tr>\n",
       "      <th>96</th>\n",
       "      <td>3</td>\n",
       "      <td>-0.480364</td>\n",
       "      <td>-0.378521</td>\n",
       "    </tr>\n",
       "    <tr>\n",
       "      <th>97</th>\n",
       "      <td>4</td>\n",
       "      <td>0.392553</td>\n",
       "      <td>0.342651</td>\n",
       "    </tr>\n",
       "    <tr>\n",
       "      <th>98</th>\n",
       "      <td>7</td>\n",
       "      <td>-0.479346</td>\n",
       "      <td>-0.249360</td>\n",
       "    </tr>\n",
       "    <tr>\n",
       "      <th>99</th>\n",
       "      <td>3</td>\n",
       "      <td>0.287223</td>\n",
       "      <td>0.159777</td>\n",
       "    </tr>\n",
       "  </tbody>\n",
       "</table>\n",
       "<p>100 rows × 3 columns</p>\n",
       "</div>"
      ],
      "text/plain": [
       "    number_courses  time_study     Marks\n",
       "0                3    0.054810 -0.104965\n",
       "1                4   -0.506442 -0.335755\n",
       "2                4   -0.120104 -0.213457\n",
       "3                6    0.487452  0.575575\n",
       "4                8    0.474985  0.621479\n",
       "..             ...         ...       ...\n",
       "95               6   -0.065658 -0.106454\n",
       "96               3   -0.480364 -0.378521\n",
       "97               4    0.392553  0.342651\n",
       "98               7   -0.479346 -0.249360\n",
       "99               3    0.287223  0.159777\n",
       "\n",
       "[100 rows x 3 columns]"
      ]
     },
     "execution_count": 104,
     "metadata": {},
     "output_type": "execute_result"
    }
   ],
   "source": [
    "dataset"
   ]
  },
  {
   "cell_type": "code",
   "execution_count": 105,
   "id": "30d47380",
   "metadata": {},
   "outputs": [
    {
     "data": {
      "text/plain": [
       "0     0.054810\n",
       "1    -0.506442\n",
       "2    -0.120104\n",
       "3     0.487452\n",
       "4     0.474985\n",
       "        ...   \n",
       "95   -0.065658\n",
       "96   -0.480364\n",
       "97    0.392553\n",
       "98   -0.479346\n",
       "99    0.287223\n",
       "Name: time_study, Length: 100, dtype: float64"
      ]
     },
     "execution_count": 105,
     "metadata": {},
     "output_type": "execute_result"
    }
   ],
   "source": [
    "x_input= dataset.iloc[:,-2]\n",
    "x_input"
   ]
  },
  {
   "cell_type": "code",
   "execution_count": 106,
   "id": "a01df978",
   "metadata": {},
   "outputs": [
    {
     "data": {
      "text/plain": [
       "0    -0.104965\n",
       "1    -0.335755\n",
       "2    -0.213457\n",
       "3     0.575575\n",
       "4     0.621479\n",
       "        ...   \n",
       "95   -0.106454\n",
       "96   -0.378521\n",
       "97    0.342651\n",
       "98   -0.249360\n",
       "99    0.159777\n",
       "Name: Marks, Length: 100, dtype: float64"
      ]
     },
     "execution_count": 106,
     "metadata": {},
     "output_type": "execute_result"
    }
   ],
   "source": [
    "y_output = dataset.iloc[:,-1]\n",
    "y_output"
   ]
  },
  {
   "cell_type": "code",
   "execution_count": 110,
   "id": "e2ee42fc",
   "metadata": {},
   "outputs": [],
   "source": [
    "m = len(x_input)+1\n",
    "\n",
    "def gradient_descent(alpha,steps):\n",
    "    theta0 = 0\n",
    "    theta1 = 0.5\n",
    "    \n",
    "    h = np.zeros(len(x_input))\n",
    "    sum1 = np.zeros(len(x_input))\n",
    "    for i in range(steps):\n",
    "        \n",
    "        for j in range(len(x_input)):\n",
    "            h[j] = theta0+theta1*x_input[j]\n",
    "            sum1[j] = h[j] - y_output[j]\n",
    "       \n",
    "        theta0 = theta0 - alpha*(1/m)*np.sum(sum1)\n",
    "        theta1 = theta1 - alpha*(1/m)*np.sum(sum1.T*x_input)\n",
    "   \n",
    "    return theta0,theta1\n",
    "\n",
    "theta0,theta1=gradient_descent(2,3000)\n",
    "h = theta1*x_input+theta0\n"
   ]
  },
  {
   "cell_type": "code",
   "execution_count": 111,
   "id": "45e27b1d",
   "metadata": {},
   "outputs": [
    {
     "data": {
      "text/plain": [
       "[<matplotlib.lines.Line2D at 0x2aeb91eb9d0>]"
      ]
     },
     "execution_count": 111,
     "metadata": {},
     "output_type": "execute_result"
    },
    {
     "data": {
      "image/png": "[encoded data removed]",
      "text/plain": [
       "<Figure size 640x480 with 1 Axes>"
      ]
     },
     "metadata": {},
     "output_type": "display_data"
    }
   ],
   "source": [
    "plt.scatter(x_input,y_output)\n",
    "plt.plot(x_input,h,color=\"red\")\n"
   ]
  },
  {
   "cell_type": "code",
   "execution_count": 112,
   "id": "65b88d61",
   "metadata": {},
   "outputs": [
    {
     "data": {
      "text/plain": [
       "46.610015061133545"
      ]
     },
     "execution_count": 112,
     "metadata": {},
     "output_type": "execute_result"
    }
   ],
   "source": [
    "(1/2*m)*np.sum((h - y_output)**2)"
   ]
  },
  {
   "cell_type": "code",
   "execution_count": 122,
   "id": "d32e99b7",
   "metadata": {},
   "outputs": [
    {
     "data": {
      "text/plain": [
       "[<matplotlib.lines.Line2D at 0x2aebaaae010>]"
      ]
     },
     "execution_count": 122,
     "metadata": {},
     "output_type": "execute_result"
    },
    {
     "data": {
      "image/png": "[encoded data removed]",
      "text/plain": [
       "<Figure size 640x480 with 1 Axes>"
      ]
     },
     "metadata": {},
     "output_type": "display_data"
    }
   ],
   "source": [
    "steps = [10,50,70,100]\n",
    "hy = []\n",
    "for i in range(len(steps)):\n",
    "    theta0,theta1=gradient_descent(2,steps[i])\n",
    "    h = theta1*x_input+theta0\n",
    "    hy.append((1/2*m)*np.sum((h - y_output)**2))\n",
    "plt.xlim(10, 100)\n",
    "\n",
    "plt.plot(steps,hy,color=\"red\")"
   ]
  },
  {
   "cell_type": "code",
   "execution_count": null,
   "id": "8769744e",
   "metadata": {},
   "outputs": [],
   "source": []
  }
 ],
 "metadata": {
  "kernelspec": {
   "display_name": "Python 3 (ipykernel)",
   "language": "python",
   "name": "python3"
  },
  "language_info": {
   "codemirror_mode": {
    "name": "ipython",
    "version": 3
   },
   "file_extension": ".py",
   "mimetype": "text/x-python",
   "name": "python",
   "nbconvert_exporter": "python",
   "pygments_lexer": "ipython3",
   "version": "3.11.1"
  }
 },
 "nbformat": 4,
 "nbformat_minor": 5
}
